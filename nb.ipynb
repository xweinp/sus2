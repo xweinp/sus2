{
 "cells": [
  {
   "cell_type": "code",
   "execution_count": null,
   "id": "ac92f4c5",
   "metadata": {},
   "outputs": [],
   "source": [
    "import torch\n",
    "from torch import nn\n",
    "import gymnasium\n",
    "import plotly.express as px\n",
    "from collections import deque\n",
    "from tqdm import tqdm\n",
    "\n",
    "device = torch.device(\"cuda\" if torch.cuda.is_available() else \"cpu\")\n",
    "print(f\"Using device: {device}\")"
   ]
  },
  {
   "cell_type": "code",
   "execution_count": null,
   "id": "c9acfbb1",
   "metadata": {},
   "outputs": [],
   "source": [
    "env = gymnasium.make(\"CartPole-v1\")\n",
    "input_dim = env.observation_space.shape[0]\n",
    "output_dim = env.action_space.n\n",
    "print(f\"Input dimension: {input_dim}, Output dimension: {output_dim}\")"
   ]
  },
  {
   "cell_type": "code",
   "execution_count": null,
   "id": "f6599b1d",
   "metadata": {},
   "outputs": [],
   "source": [
    "class Model(nn.Module):\n",
    "    def __init__(self, input_dim, output_dim):\n",
    "        super(self).__init__()\n",
    "        self.mod = nn.Sequential(\n",
    "            nn.Linear(input_dim, 32),\n",
    "            nn.ReLU(),\n",
    "            nn.Linear(32, 32),\n",
    "            nn.ReLU(),\n",
    "            nn.Linear(32, output_dim)\n",
    "        )\n",
    "    def forward(self, x):\n",
    "        return self.mod(x)\n",
    "    @torch.no_grad()\n",
    "    def predict(self, x):\n",
    "        return self.mod(x).argmax(dim=1)\n",
    "\n"
   ]
  },
  {
   "cell_type": "code",
   "execution_count": null,
   "id": "90436002",
   "metadata": {},
   "outputs": [],
   "source": [
    "\n",
    "\n",
    "class ReplayMemory():\n",
    "    def __init__(self, max_capacity):\n",
    "        self.memory = deque(maxlen=max_capacity)\n",
    "        self.max_capacity = 10000\n",
    "\n",
    "    def add(self, transition):\n",
    "        if len(self.memory) >= self.max_capacity:\n",
    "            self.memory.popleft()\n",
    "        self.memory.append(transition)\n",
    "        \n",
    "    def sample(self, batch_size):\n",
    "        ln = len(self.memory)\n",
    "        indices = torch.randint(0, ln, (min(batch_size, ln),))\n",
    "        return torch.stack([self.memory[i] for i in indices])"
   ]
  },
  {
   "cell_type": "code",
   "execution_count": null,
   "id": "c4664151",
   "metadata": {},
   "outputs": [],
   "source": [
    "model = Model(input_dim, output_dim).to(device)\n",
    "memory = ReplayMemory(1e7)"
   ]
  },
  {
   "cell_type": "code",
   "execution_count": null,
   "id": "5e51a616",
   "metadata": {},
   "outputs": [],
   "source": [
    "batch_size = 128\n",
    "learning_rate = 1e-3\n",
    "optimizer = torch.optim.Adam\n",
    "n_episodes = 1000\n",
    "\n",
    "\n",
    "optimizer = optimizer(model.parameters(), lr=learning_rate)"
   ]
  },
  {
   "cell_type": "code",
   "execution_count": null,
   "id": "9d05ab56",
   "metadata": {},
   "outputs": [],
   "source": [
    "for episode in tqdm(range(n_episodes)):\n",
    "    state, info = env.reset()"
   ]
  }
 ],
 "metadata": {
  "kernelspec": {
   "display_name": "pysus",
   "language": "python",
   "name": "python3"
  },
  "language_info": {
   "name": "python",
   "version": "3.13.3"
  }
 },
 "nbformat": 4,
 "nbformat_minor": 5
}
